{
 "cells": [
  {
   "cell_type": "code",
   "execution_count": 1,
   "id": "35c0d7d0",
   "metadata": {},
   "outputs": [],
   "source": [
    "#install python package:numpy"
   ]
  },
  {
   "cell_type": "code",
   "execution_count": 2,
   "id": "184337f2",
   "metadata": {},
   "outputs": [],
   "source": [
    "#this is a cell "
   ]
  },
  {
   "cell_type": "code",
   "execution_count": 3,
   "id": "b892d5c9",
   "metadata": {},
   "outputs": [],
   "source": [
    "#pip install numpy (one time activity)"
   ]
  },
  {
   "cell_type": "code",
   "execution_count": 4,
   "id": "a57c55e9",
   "metadata": {},
   "outputs": [],
   "source": [
    "import numpy as np"
   ]
  },
  {
   "cell_type": "code",
   "execution_count": 5,
   "id": "9a02c904",
   "metadata": {},
   "outputs": [],
   "source": [
    "myList = [9,8,7,6]\n",
    "f = [\"red\",\"yellow\"]"
   ]
  },
  {
   "cell_type": "code",
   "execution_count": 6,
   "id": "77cf8d01",
   "metadata": {},
   "outputs": [
    {
     "name": "stdout",
     "output_type": "stream",
     "text": [
      "[9, 8, 7, 6]\n",
      "['red', 'yellow']\n"
     ]
    }
   ],
   "source": [
    "print(myList)\n",
    "print(f)"
   ]
  },
  {
   "cell_type": "code",
   "execution_count": 7,
   "id": "093d30e2",
   "metadata": {},
   "outputs": [
    {
     "data": {
      "text/plain": [
       "list"
      ]
     },
     "execution_count": 7,
     "metadata": {},
     "output_type": "execute_result"
    }
   ],
   "source": [
    "type(myList) #object type"
   ]
  },
  {
   "cell_type": "code",
   "execution_count": null,
   "id": "8c672f54",
   "metadata": {},
   "outputs": [],
   "source": []
  },
  {
   "cell_type": "code",
   "execution_count": 8,
   "id": "ea1e8724",
   "metadata": {},
   "outputs": [],
   "source": [
    "# dir(np) show all the inbuilt function"
   ]
  },
  {
   "cell_type": "code",
   "execution_count": 9,
   "id": "590f7d80",
   "metadata": {},
   "outputs": [],
   "source": [
    "# help(np) "
   ]
  },
  {
   "cell_type": "code",
   "execution_count": 10,
   "id": "a4514e1c",
   "metadata": {},
   "outputs": [
    {
     "data": {
      "text/plain": [
       "array([9, 8, 7, 6])"
      ]
     },
     "execution_count": 10,
     "metadata": {},
     "output_type": "execute_result"
    }
   ],
   "source": [
    "np.array(myList)"
   ]
  },
  {
   "cell_type": "code",
   "execution_count": 11,
   "id": "a7d1a5c3",
   "metadata": {},
   "outputs": [],
   "source": [
    "arr = np.array(myList)"
   ]
  },
  {
   "cell_type": "code",
   "execution_count": 12,
   "id": "df51f580",
   "metadata": {},
   "outputs": [
    {
     "data": {
      "text/plain": [
       "(4,)"
      ]
     },
     "execution_count": 12,
     "metadata": {},
     "output_type": "execute_result"
    }
   ],
   "source": [
    "arr.size\n",
    "arr.shape"
   ]
  },
  {
   "cell_type": "code",
   "execution_count": 13,
   "id": "ea39945f",
   "metadata": {},
   "outputs": [
    {
     "name": "stdout",
     "output_type": "stream",
     "text": [
      "[9 8 7 6]\n",
      "<class 'numpy.ndarray'>\n"
     ]
    }
   ],
   "source": [
    "print(arr)\n",
    "print(type(arr))"
   ]
  },
  {
   "cell_type": "code",
   "execution_count": 14,
   "id": "0e2cf2d8",
   "metadata": {},
   "outputs": [
    {
     "data": {
      "text/plain": [
       "array([9, 8, 7, 6])"
      ]
     },
     "execution_count": 14,
     "metadata": {},
     "output_type": "execute_result"
    }
   ],
   "source": [
    "arr"
   ]
  },
  {
   "cell_type": "code",
   "execution_count": 15,
   "id": "b018632d",
   "metadata": {},
   "outputs": [],
   "source": [
    "mylist1=[1,2,3,4]\n",
    "mylist2=[5,6,7,8]\n",
    "mylist3=[9,10,11,12]"
   ]
  },
  {
   "cell_type": "code",
   "execution_count": 16,
   "id": "ea20565b",
   "metadata": {},
   "outputs": [],
   "source": [
    "ar = np.array([mylist1,mylist2,mylist3])"
   ]
  },
  {
   "cell_type": "code",
   "execution_count": 17,
   "id": "a1338641",
   "metadata": {},
   "outputs": [
    {
     "data": {
      "text/plain": [
       "array([[ 1,  2,  3,  4],\n",
       "       [ 5,  6,  7,  8],\n",
       "       [ 9, 10, 11, 12]])"
      ]
     },
     "execution_count": 17,
     "metadata": {},
     "output_type": "execute_result"
    }
   ],
   "source": [
    "ar"
   ]
  },
  {
   "cell_type": "code",
   "execution_count": 18,
   "id": "2182a135",
   "metadata": {},
   "outputs": [
    {
     "data": {
      "text/plain": [
       "numpy.ndarray"
      ]
     },
     "execution_count": 18,
     "metadata": {},
     "output_type": "execute_result"
    }
   ],
   "source": [
    "type(ar)"
   ]
  },
  {
   "cell_type": "code",
   "execution_count": 19,
   "id": "80907760",
   "metadata": {},
   "outputs": [
    {
     "data": {
      "text/plain": [
       "(3, 4)"
      ]
     },
     "execution_count": 19,
     "metadata": {},
     "output_type": "execute_result"
    }
   ],
   "source": [
    "ar.shape"
   ]
  },
  {
   "cell_type": "code",
   "execution_count": 20,
   "id": "af0a851e",
   "metadata": {},
   "outputs": [
    {
     "data": {
      "text/plain": [
       "12"
      ]
     },
     "execution_count": 20,
     "metadata": {},
     "output_type": "execute_result"
    }
   ],
   "source": [
    "ar.size\n"
   ]
  },
  {
   "cell_type": "code",
   "execution_count": 21,
   "id": "63e2599c",
   "metadata": {},
   "outputs": [],
   "source": [
    "mylist1=[1,2,3,4]"
   ]
  },
  {
   "cell_type": "code",
   "execution_count": 22,
   "id": "8507632c",
   "metadata": {},
   "outputs": [],
   "source": [
    "ar = np.array(mylist1)"
   ]
  },
  {
   "cell_type": "code",
   "execution_count": 23,
   "id": "a9b306ca",
   "metadata": {},
   "outputs": [
    {
     "name": "stdout",
     "output_type": "stream",
     "text": [
      "1\n"
     ]
    }
   ],
   "source": [
    "print(ar[0]) #index value"
   ]
  },
  {
   "cell_type": "code",
   "execution_count": 24,
   "id": "a51d0a2d",
   "metadata": {},
   "outputs": [
    {
     "name": "stdout",
     "output_type": "stream",
     "text": [
      "2\n"
     ]
    }
   ],
   "source": [
    "print(ar[1])"
   ]
  },
  {
   "cell_type": "code",
   "execution_count": 25,
   "id": "fd322185",
   "metadata": {},
   "outputs": [
    {
     "name": "stdout",
     "output_type": "stream",
     "text": [
      "3rd elements is:: 4th element is:: 4\n"
     ]
    }
   ],
   "source": [
    "print(\"3rd elements is::\",ar[2] and \"4th element is::\",ar[3])"
   ]
  },
  {
   "cell_type": "code",
   "execution_count": 26,
   "id": "c8015348",
   "metadata": {},
   "outputs": [],
   "source": [
    "mylist1=[1,2,3,4]\n",
    "mylist2=[5,6,7,8]\n",
    "mylist3=[9,10,11,12]\n",
    "ar = np.array([mylist1,mylist2,mylist3])"
   ]
  },
  {
   "cell_type": "code",
   "execution_count": 27,
   "id": "5ef046a1",
   "metadata": {},
   "outputs": [
    {
     "data": {
      "text/plain": [
       "array([[ 1,  2,  3,  4],\n",
       "       [ 5,  6,  7,  8],\n",
       "       [ 9, 10, 11, 12]])"
      ]
     },
     "execution_count": 27,
     "metadata": {},
     "output_type": "execute_result"
    }
   ],
   "source": [
    "ar"
   ]
  },
  {
   "cell_type": "code",
   "execution_count": 28,
   "id": "ccb6d35d",
   "metadata": {},
   "outputs": [
    {
     "data": {
      "text/plain": [
       "7"
      ]
     },
     "execution_count": 28,
     "metadata": {},
     "output_type": "execute_result"
    }
   ],
   "source": [
    "ar[1,2]"
   ]
  },
  {
   "cell_type": "code",
   "execution_count": 29,
   "id": "2da26317",
   "metadata": {},
   "outputs": [],
   "source": [
    "mylist1=[1,2,3,4,15]\n",
    "mylist2=[5,6,7,8,16]\n",
    "mylist3=[9,10,11,12,17]\n",
    "ar = np.array([mylist1,mylist2,mylist3])"
   ]
  },
  {
   "cell_type": "code",
   "execution_count": 30,
   "id": "7f4035af",
   "metadata": {},
   "outputs": [
    {
     "data": {
      "text/plain": [
       "array([[ 1,  2,  3,  4, 15],\n",
       "       [ 5,  6,  7,  8, 16],\n",
       "       [ 9, 10, 11, 12, 17]])"
      ]
     },
     "execution_count": 30,
     "metadata": {},
     "output_type": "execute_result"
    }
   ],
   "source": [
    "ar"
   ]
  },
  {
   "cell_type": "code",
   "execution_count": 31,
   "id": "6881316f",
   "metadata": {},
   "outputs": [
    {
     "data": {
      "text/plain": [
       "8"
      ]
     },
     "execution_count": 31,
     "metadata": {},
     "output_type": "execute_result"
    }
   ],
   "source": [
    "ar[1,3]\n"
   ]
  },
  {
   "cell_type": "code",
   "execution_count": 32,
   "id": "9413104e",
   "metadata": {},
   "outputs": [
    {
     "data": {
      "text/plain": [
       "16"
      ]
     },
     "execution_count": 32,
     "metadata": {},
     "output_type": "execute_result"
    }
   ],
   "source": [
    "ar[1,4]"
   ]
  },
  {
   "cell_type": "code",
   "execution_count": 33,
   "id": "a26d3064",
   "metadata": {},
   "outputs": [
    {
     "data": {
      "text/plain": [
       "1"
      ]
     },
     "execution_count": 33,
     "metadata": {},
     "output_type": "execute_result"
    }
   ],
   "source": [
    "ar[0,0]"
   ]
  },
  {
   "cell_type": "code",
   "execution_count": 34,
   "id": "4d59b553",
   "metadata": {},
   "outputs": [
    {
     "data": {
      "text/plain": [
       "7"
      ]
     },
     "execution_count": 34,
     "metadata": {},
     "output_type": "execute_result"
    }
   ],
   "source": [
    "ar[1,2]"
   ]
  },
  {
   "cell_type": "code",
   "execution_count": 35,
   "id": "411f334b",
   "metadata": {},
   "outputs": [
    {
     "data": {
      "text/plain": [
       "(3, 5)"
      ]
     },
     "execution_count": 35,
     "metadata": {},
     "output_type": "execute_result"
    }
   ],
   "source": [
    "ar.shape"
   ]
  },
  {
   "cell_type": "code",
   "execution_count": 36,
   "id": "cdbcef71",
   "metadata": {},
   "outputs": [
    {
     "name": "stdout",
     "output_type": "stream",
     "text": [
      "[[ 1  2  3  4 15]\n",
      " [ 5  6  7  8 16]\n",
      " [ 9 10 11 12 17]]\n",
      "shape:: (3, 5)\n",
      "size:: 15\n",
      "indexing value:: 1\n",
      "indexing value:: 6\n"
     ]
    }
   ],
   "source": [
    "print(ar)\n",
    "print(\"shape::\",ar.shape)\n",
    "print(\"size::\",ar.size)\n",
    "#indexing using both row and column\n",
    "print(\"indexing value::\",ar[0,0])\n",
    "print(\"indexing value::\",ar[1,1])"
   ]
  },
  {
   "cell_type": "code",
   "execution_count": 37,
   "id": "decf80d8",
   "metadata": {},
   "outputs": [],
   "source": [
    "newarr= np.array([[1,2,3,4,5],[6,7,8,9,10],[1,2,3,4,5],[11,12,13,14,15],[20,25,30,35,40]])"
   ]
  },
  {
   "cell_type": "code",
   "execution_count": 38,
   "id": "faf4ecda",
   "metadata": {},
   "outputs": [
    {
     "name": "stdout",
     "output_type": "stream",
     "text": [
      "[[ 1  2  3  4  5]\n",
      " [ 6  7  8  9 10]\n",
      " [ 1  2  3  4  5]\n",
      " [11 12 13 14 15]\n",
      " [20 25 30 35 40]]\n",
      "shape:: (5, 5)\n",
      "size:: 25\n",
      "indexing value:: 1\n",
      "indexing value:: 7\n"
     ]
    }
   ],
   "source": [
    "print(newarr)\n",
    "print(\"shape::\",newarr.shape)\n",
    "print(\"size::\",newarr.size)\n",
    "print(\"indexing value::\",newarr[0,0])\n",
    "print(\"indexing value::\",newarr[1,1])"
   ]
  },
  {
   "cell_type": "code",
   "execution_count": 39,
   "id": "d44c0a18",
   "metadata": {},
   "outputs": [
    {
     "name": "stdout",
     "output_type": "stream",
     "text": [
      "13\n"
     ]
    }
   ],
   "source": [
    "#negative indexing\n",
    "print(newarr[3,-3])"
   ]
  },
  {
   "cell_type": "code",
   "execution_count": 40,
   "id": "98fe173c",
   "metadata": {},
   "outputs": [],
   "source": [
    "mylt=[1, 2, 3, 4, 5, 6, 7, 8]"
   ]
  },
  {
   "cell_type": "code",
   "execution_count": 41,
   "id": "8e70dfaf",
   "metadata": {},
   "outputs": [
    {
     "data": {
      "text/plain": [
       "[1, 2, 3, 4, 5, 6, 7, 8]"
      ]
     },
     "execution_count": 41,
     "metadata": {},
     "output_type": "execute_result"
    }
   ],
   "source": [
    "mylt  #SLICING ONE D"
   ]
  },
  {
   "cell_type": "code",
   "execution_count": 42,
   "id": "6285a040",
   "metadata": {},
   "outputs": [],
   "source": [
    "AR=np.array(mylt)"
   ]
  },
  {
   "cell_type": "code",
   "execution_count": 43,
   "id": "b92dc88d",
   "metadata": {},
   "outputs": [
    {
     "data": {
      "text/plain": [
       "array([1, 2, 3, 4, 5, 6, 7, 8])"
      ]
     },
     "execution_count": 43,
     "metadata": {},
     "output_type": "execute_result"
    }
   ],
   "source": [
    "AR"
   ]
  },
  {
   "cell_type": "code",
   "execution_count": 44,
   "id": "fba689ef",
   "metadata": {},
   "outputs": [
    {
     "name": "stdout",
     "output_type": "stream",
     "text": [
      "[1 2 3 4 5]\n",
      "[4 5 6 7 8]\n",
      "[2 4]\n"
     ]
    }
   ],
   "source": [
    "print(AR[0:5])\n",
    "print(AR[3:])\n",
    "print(AR[1:4:2])"
   ]
  },
  {
   "cell_type": "code",
   "execution_count": 45,
   "id": "ed21ee20",
   "metadata": {},
   "outputs": [
    {
     "name": "stdout",
     "output_type": "stream",
     "text": [
      "[1 2 3 4]\n"
     ]
    }
   ],
   "source": [
    "print(AR[0:4])"
   ]
  },
  {
   "cell_type": "code",
   "execution_count": 46,
   "id": "6a9af04e",
   "metadata": {},
   "outputs": [
    {
     "name": "stdout",
     "output_type": "stream",
     "text": [
      "[6 7]\n",
      "[1 2 3 4 5 6 7]\n"
     ]
    }
   ],
   "source": [
    "#negative slicing:\n",
    "print(AR[-3:-1])\n",
    "print(AR[:-1])"
   ]
  },
  {
   "cell_type": "code",
   "execution_count": 47,
   "id": "e5a824eb",
   "metadata": {},
   "outputs": [
    {
     "name": "stdout",
     "output_type": "stream",
     "text": [
      "[1 7]\n",
      "[1 3 5]\n"
     ]
    }
   ],
   "source": [
    "#Use the step value to determine the step of the slicing:\n",
    "print(AR[::6])\n",
    "print(AR[:5:2])"
   ]
  },
  {
   "cell_type": "code",
   "execution_count": 48,
   "id": "f6b2ebdd",
   "metadata": {},
   "outputs": [
    {
     "name": "stdout",
     "output_type": "stream",
     "text": [
      "[7 8 9]\n"
     ]
    }
   ],
   "source": [
    "#2d array slicing::\n",
    "my_lst1=[1,2,3,4,5]\n",
    "my_lst2=[6,7,8,9,10]\n",
    "my_lst3=[11,12,13,14,15]\n",
    "\n",
    "arr=np.array([my_lst1,my_lst2,my_lst3])\n",
    "print(arr[1, 1:4])"
   ]
  },
  {
   "cell_type": "code",
   "execution_count": 49,
   "id": "e3db233e",
   "metadata": {},
   "outputs": [
    {
     "name": "stdout",
     "output_type": "stream",
     "text": [
      "[3 8]\n",
      "[ 2  7 12]\n"
     ]
    }
   ],
   "source": [
    "print(arr[0:2,2])\n",
    "print(arr[0:3,1])"
   ]
  },
  {
   "cell_type": "code",
   "execution_count": 50,
   "id": "61beeed2",
   "metadata": {},
   "outputs": [
    {
     "name": "stdout",
     "output_type": "stream",
     "text": [
      "[[ 1  2  3  4  5]\n",
      " [ 6  7  8  9 10]\n",
      " [11 12 13 14 15]]\n"
     ]
    }
   ],
   "source": [
    "print(arr[:,:])"
   ]
  },
  {
   "cell_type": "code",
   "execution_count": 51,
   "id": "60797111",
   "metadata": {},
   "outputs": [
    {
     "name": "stdout",
     "output_type": "stream",
     "text": [
      "[[2 3 4]\n",
      " [7 8 9]]\n"
     ]
    }
   ],
   "source": [
    "print(arr[0:2,1:4])"
   ]
  },
  {
   "cell_type": "code",
   "execution_count": 52,
   "id": "989ea6b3",
   "metadata": {},
   "outputs": [
    {
     "name": "stdout",
     "output_type": "stream",
     "text": [
      "[[ 6  7]\n",
      " [11 12]]\n"
     ]
    }
   ],
   "source": [
    "print(arr[1:,:2])"
   ]
  },
  {
   "cell_type": "code",
   "execution_count": 53,
   "id": "4424d63c",
   "metadata": {},
   "outputs": [
    {
     "name": "stdout",
     "output_type": "stream",
     "text": [
      "[[ 4  5]\n",
      " [ 9 10]\n",
      " [14 15]]\n"
     ]
    }
   ],
   "source": [
    "print(arr[:,3:])"
   ]
  },
  {
   "cell_type": "code",
   "execution_count": 54,
   "id": "898dedc0",
   "metadata": {},
   "outputs": [],
   "source": [
    "silArr = np.array([[1,2,3,4], [5,6,7,8], [9,10,11,12]])"
   ]
  },
  {
   "cell_type": "code",
   "execution_count": 55,
   "id": "468e9dc4",
   "metadata": {},
   "outputs": [
    {
     "name": "stdout",
     "output_type": "stream",
     "text": [
      "[[ 1  2  3  4]\n",
      " [ 5  6  7  8]\n",
      " [ 9 10 11 12]]\n"
     ]
    }
   ],
   "source": [
    "print(silArr)"
   ]
  },
  {
   "cell_type": "code",
   "execution_count": 56,
   "id": "246f8bb8",
   "metadata": {},
   "outputs": [
    {
     "data": {
      "text/plain": [
       "array([[ 1,  2,  3,  4],\n",
       "       [ 5,  6,  7,  8],\n",
       "       [ 9, 10, 11, 12]])"
      ]
     },
     "execution_count": 56,
     "metadata": {},
     "output_type": "execute_result"
    }
   ],
   "source": [
    "silArr"
   ]
  },
  {
   "cell_type": "code",
   "execution_count": 57,
   "id": "b7b65947",
   "metadata": {},
   "outputs": [
    {
     "data": {
      "text/plain": [
       "array([[2, 3],\n",
       "       [6, 7]])"
      ]
     },
     "execution_count": 57,
     "metadata": {},
     "output_type": "execute_result"
    }
   ],
   "source": [
    "silArr[:2, 1:3]"
   ]
  },
  {
   "cell_type": "code",
   "execution_count": 58,
   "id": "52d446bb",
   "metadata": {},
   "outputs": [
    {
     "name": "stdout",
     "output_type": "stream",
     "text": [
      "2\n"
     ]
    }
   ],
   "source": [
    "print(silArr[0, 1])"
   ]
  },
  {
   "cell_type": "code",
   "execution_count": 59,
   "id": "38b4c05d",
   "metadata": {},
   "outputs": [
    {
     "data": {
      "text/plain": [
       "array([ 0,  1,  2,  3,  4,  5,  6,  7,  8,  9, 10, 11, 12, 13, 14, 15, 16,\n",
       "       17, 18, 19])"
      ]
     },
     "execution_count": 59,
     "metadata": {},
     "output_type": "execute_result"
    }
   ],
   "source": [
    "#ARANGE FUNCTION::\n",
    "np.arange(20)"
   ]
  },
  {
   "cell_type": "code",
   "execution_count": 60,
   "id": "782c65c1",
   "metadata": {},
   "outputs": [
    {
     "data": {
      "text/plain": [
       "array([10, 11, 12, 13, 14, 15, 16, 17, 18, 19, 20])"
      ]
     },
     "execution_count": 60,
     "metadata": {},
     "output_type": "execute_result"
    }
   ],
   "source": [
    "#10-20\n",
    "np.arange(10,20+1)"
   ]
  },
  {
   "cell_type": "code",
   "execution_count": 61,
   "id": "52c3d433",
   "metadata": {},
   "outputs": [
    {
     "data": {
      "text/plain": [
       "array([10, 12, 14, 16, 18])"
      ]
     },
     "execution_count": 61,
     "metadata": {},
     "output_type": "execute_result"
    }
   ],
   "source": [
    "#10-20-2\n",
    "np.arange(10,20,2)"
   ]
  },
  {
   "cell_type": "code",
   "execution_count": 62,
   "id": "0f084cd5",
   "metadata": {},
   "outputs": [
    {
     "data": {
      "text/plain": [
       "array([1, 2, 3, 4, 5, 6, 7, 8, 9])"
      ]
     },
     "execution_count": 62,
     "metadata": {},
     "output_type": "execute_result"
    }
   ],
   "source": [
    "np.arange(1,10)"
   ]
  },
  {
   "cell_type": "code",
   "execution_count": 63,
   "id": "2b36e375",
   "metadata": {},
   "outputs": [
    {
     "data": {
      "text/plain": [
       "array([10,  8,  6,  4,  2])"
      ]
     },
     "execution_count": 63,
     "metadata": {},
     "output_type": "execute_result"
    }
   ],
   "source": [
    "np.arange(10,0,-2)"
   ]
  },
  {
   "cell_type": "code",
   "execution_count": 64,
   "id": "c7742e76",
   "metadata": {},
   "outputs": [
    {
     "name": "stdout",
     "output_type": "stream",
     "text": [
      "[b'1' b'2' b'3' b'4' b'5']\n",
      "|S1\n"
     ]
    }
   ],
   "source": [
    "import numpy as np\n",
    "arr=np.array([1,2,3,4,5],dtype=\"S\") #forcing the system to do\n",
    "print(arr)\n",
    "print(arr.dtype)"
   ]
  },
  {
   "cell_type": "code",
   "execution_count": 65,
   "id": "0fb87b4f",
   "metadata": {},
   "outputs": [
    {
     "data": {
      "text/plain": [
       "array([  0.,  25.,  50.,  75., 100.])"
      ]
     },
     "execution_count": 65,
     "metadata": {},
     "output_type": "execute_result"
    }
   ],
   "source": [
    "#LINSPACE::\n",
    "np.linspace(0,100,num=5)"
   ]
  },
  {
   "cell_type": "code",
   "execution_count": 66,
   "id": "e032b3a8",
   "metadata": {},
   "outputs": [
    {
     "name": "stdout",
     "output_type": "stream",
     "text": [
      "int64\n"
     ]
    }
   ],
   "source": [
    "#DATA TYPE::\n",
    "arr=np.array([1,2,3,4,5])\n",
    "print(arr.dtype)"
   ]
  },
  {
   "cell_type": "code",
   "execution_count": 67,
   "id": "4969e462",
   "metadata": {},
   "outputs": [
    {
     "name": "stdout",
     "output_type": "stream",
     "text": [
      "<U5\n"
     ]
    }
   ],
   "source": [
    "arr=np.array([\"apple\",\"ora\"])\n",
    "print(arr.dtype)"
   ]
  },
  {
   "cell_type": "code",
   "execution_count": 68,
   "id": "6fa83470",
   "metadata": {},
   "outputs": [
    {
     "name": "stdout",
     "output_type": "stream",
     "text": [
      "complex128\n"
     ]
    }
   ],
   "source": [
    "arr=np.array([1.2j])\n",
    "print(arr.dtype)"
   ]
  },
  {
   "cell_type": "code",
   "execution_count": 69,
   "id": "8f759c29",
   "metadata": {},
   "outputs": [
    {
     "name": "stdout",
     "output_type": "stream",
     "text": [
      "[b'1' b'2' b'3' b'4' b'5']\n",
      "|S1\n"
     ]
    }
   ],
   "source": [
    "arr=np.array([1,2,3,4,5],dtype=\"S\")\n",
    "print(arr)\n",
    "print(arr.dtype)"
   ]
  },
  {
   "cell_type": "code",
   "execution_count": 70,
   "id": "38c2d477",
   "metadata": {},
   "outputs": [
    {
     "name": "stdout",
     "output_type": "stream",
     "text": [
      "complex128\n"
     ]
    }
   ],
   "source": [
    "arr=np.array([1.0j,1.7])\n",
    "print(arr.dtype)"
   ]
  },
  {
   "cell_type": "code",
   "execution_count": 71,
   "id": "2163f656",
   "metadata": {},
   "outputs": [
    {
     "name": "stdout",
     "output_type": "stream",
     "text": [
      "float64\n"
     ]
    }
   ],
   "source": [
    "arr=np.array([2.0])\n",
    "print(arr.dtype)"
   ]
  },
  {
   "cell_type": "code",
   "execution_count": 72,
   "id": "89201449",
   "metadata": {},
   "outputs": [
    {
     "name": "stdout",
     "output_type": "stream",
     "text": [
      "int64\n"
     ]
    }
   ],
   "source": [
    "arr=np.array([1,2,3,4,5])\n",
    "\n",
    "print(arr.dtype)"
   ]
  },
  {
   "cell_type": "code",
   "execution_count": 73,
   "id": "657aa8f4",
   "metadata": {},
   "outputs": [],
   "source": [
    "#Array Math\n",
    "x = np.array([[1,2],[3,4]])\n",
    "y = np.array([[5,6],[7,8]])"
   ]
  },
  {
   "cell_type": "code",
   "execution_count": 74,
   "id": "e77d63bf",
   "metadata": {},
   "outputs": [
    {
     "name": "stdout",
     "output_type": "stream",
     "text": [
      "[[1 2]\n",
      " [3 4]]\n",
      "[[5 6]\n",
      " [7 8]]\n"
     ]
    }
   ],
   "source": [
    "print(x)\n",
    "print(y)"
   ]
  },
  {
   "cell_type": "code",
   "execution_count": 75,
   "id": "0a281ca0",
   "metadata": {},
   "outputs": [
    {
     "data": {
      "text/plain": [
       "array([[ 6,  8],\n",
       "       [10, 12]])"
      ]
     },
     "execution_count": 75,
     "metadata": {},
     "output_type": "execute_result"
    }
   ],
   "source": [
    "x+y"
   ]
  },
  {
   "cell_type": "code",
   "execution_count": 76,
   "id": "0a518a4a",
   "metadata": {},
   "outputs": [
    {
     "data": {
      "text/plain": [
       "array([[-4, -4],\n",
       "       [-4, -4]])"
      ]
     },
     "execution_count": 76,
     "metadata": {},
     "output_type": "execute_result"
    }
   ],
   "source": [
    "np.subtract(x,y)"
   ]
  },
  {
   "cell_type": "code",
   "execution_count": 77,
   "id": "afa9a381",
   "metadata": {},
   "outputs": [
    {
     "data": {
      "text/plain": [
       "array([[0.2       , 0.33333333],\n",
       "       [0.42857143, 0.5       ]])"
      ]
     },
     "execution_count": 77,
     "metadata": {},
     "output_type": "execute_result"
    }
   ],
   "source": [
    "np.divide(x,y)"
   ]
  },
  {
   "cell_type": "code",
   "execution_count": 78,
   "id": "948aa5a3",
   "metadata": {},
   "outputs": [
    {
     "data": {
      "text/plain": [
       "array([[ 5, 12],\n",
       "       [21, 32]])"
      ]
     },
     "execution_count": 78,
     "metadata": {},
     "output_type": "execute_result"
    }
   ],
   "source": [
    "np.multiply(x,y)"
   ]
  },
  {
   "cell_type": "code",
   "execution_count": 79,
   "id": "53b79b59",
   "metadata": {},
   "outputs": [
    {
     "data": {
      "text/plain": [
       "array([[ 6,  8],\n",
       "       [10, 12]])"
      ]
     },
     "execution_count": 79,
     "metadata": {},
     "output_type": "execute_result"
    }
   ],
   "source": [
    "np.add(x,y)"
   ]
  },
  {
   "cell_type": "code",
   "execution_count": 80,
   "id": "a4412e22",
   "metadata": {},
   "outputs": [
    {
     "data": {
      "text/plain": [
       "array([[1.        , 1.41421356],\n",
       "       [1.73205081, 2.        ]])"
      ]
     },
     "execution_count": 80,
     "metadata": {},
     "output_type": "execute_result"
    }
   ],
   "source": [
    "np.sqrt(x)"
   ]
  },
  {
   "cell_type": "code",
   "execution_count": 81,
   "id": "556db3ad",
   "metadata": {},
   "outputs": [
    {
     "data": {
      "text/plain": [
       "(2, 2)"
      ]
     },
     "execution_count": 81,
     "metadata": {},
     "output_type": "execute_result"
    }
   ],
   "source": [
    "x.shape"
   ]
  },
  {
   "cell_type": "code",
   "execution_count": 82,
   "id": "389a971e",
   "metadata": {},
   "outputs": [
    {
     "data": {
      "text/plain": [
       "(2, 2)"
      ]
     },
     "execution_count": 82,
     "metadata": {},
     "output_type": "execute_result"
    }
   ],
   "source": [
    "y.shape"
   ]
  },
  {
   "cell_type": "code",
   "execution_count": 83,
   "id": "9a6da27f",
   "metadata": {},
   "outputs": [
    {
     "data": {
      "text/plain": [
       "array([[ 6,  8],\n",
       "       [10, 12]])"
      ]
     },
     "execution_count": 83,
     "metadata": {},
     "output_type": "execute_result"
    }
   ],
   "source": [
    "x+y\n"
   ]
  },
  {
   "cell_type": "code",
   "execution_count": 84,
   "id": "de4934d6",
   "metadata": {},
   "outputs": [],
   "source": [
    "x = np.array([[1,2],[3,4]])\n",
    "y = np.array([[5,6],[7,8],[1,4]])"
   ]
  },
  {
   "cell_type": "code",
   "execution_count": 85,
   "id": "a43bd569",
   "metadata": {},
   "outputs": [
    {
     "ename": "ValueError",
     "evalue": "operands could not be broadcast together with shapes (2,2) (3,2) ",
     "output_type": "error",
     "traceback": [
      "\u001b[0;31m---------------------------------------------------------------------------\u001b[0m",
      "\u001b[0;31mValueError\u001b[0m                                Traceback (most recent call last)",
      "\u001b[0;32m/var/folders/x9/53_ys47x1pn2rbqnxc60stsm0000gn/T/ipykernel_98234/3708876685.py\u001b[0m in \u001b[0;36m<module>\u001b[0;34m\u001b[0m\n\u001b[0;32m----> 1\u001b[0;31m \u001b[0mnp\u001b[0m\u001b[0;34m.\u001b[0m\u001b[0madd\u001b[0m\u001b[0;34m(\u001b[0m\u001b[0mx\u001b[0m\u001b[0;34m,\u001b[0m\u001b[0my\u001b[0m\u001b[0;34m)\u001b[0m \u001b[0;31m# rows and clounm is not equal\u001b[0m\u001b[0;34m\u001b[0m\u001b[0;34m\u001b[0m\u001b[0m\n\u001b[0m",
      "\u001b[0;31mValueError\u001b[0m: operands could not be broadcast together with shapes (2,2) (3,2) "
     ]
    }
   ],
   "source": [
    "np.add(x,y) # rows and clounm is not equal"
   ]
  },
  {
   "cell_type": "code",
   "execution_count": null,
   "id": "a7ad53f5",
   "metadata": {},
   "outputs": [],
   "source": [
    "x.shape\n",
    "y.shape"
   ]
  },
  {
   "cell_type": "code",
   "execution_count": null,
   "id": "2d889ddf",
   "metadata": {},
   "outputs": [],
   "source": [
    "np.exp(x)  #exponent"
   ]
  },
  {
   "cell_type": "code",
   "execution_count": null,
   "id": "20e412d4",
   "metadata": {},
   "outputs": [],
   "source": [
    "np.log(y) #logaritham"
   ]
  },
  {
   "cell_type": "code",
   "execution_count": null,
   "id": "6098f2b0",
   "metadata": {},
   "outputs": [],
   "source": [
    "np.cos(x) #cos"
   ]
  },
  {
   "cell_type": "code",
   "execution_count": null,
   "id": "905b5191",
   "metadata": {},
   "outputs": [],
   "source": [
    "np.tan(x) #tan"
   ]
  },
  {
   "cell_type": "code",
   "execution_count": null,
   "id": "c717b087",
   "metadata": {},
   "outputs": [],
   "source": [
    "#floor ,ceil,round"
   ]
  },
  {
   "cell_type": "code",
   "execution_count": null,
   "id": "8e171567",
   "metadata": {},
   "outputs": [],
   "source": [
    "import numpy as np"
   ]
  },
  {
   "cell_type": "code",
   "execution_count": null,
   "id": "d85eb484",
   "metadata": {},
   "outputs": [],
   "source": [
    "A = np.array([[1,2,3] ,[4,5,6] ,[7,8,9]])"
   ]
  },
  {
   "cell_type": "code",
   "execution_count": null,
   "id": "084afd3a",
   "metadata": {},
   "outputs": [],
   "source": [
    "print(A)"
   ]
  },
  {
   "cell_type": "code",
   "execution_count": null,
   "id": "57f951bd",
   "metadata": {},
   "outputs": [],
   "source": [
    "print(A[0:3,2])"
   ]
  },
  {
   "cell_type": "code",
   "execution_count": null,
   "id": "27f606ec",
   "metadata": {},
   "outputs": [],
   "source": [
    "print(A[0:3,1])"
   ]
  },
  {
   "cell_type": "code",
   "execution_count": null,
   "id": "3941a0b7",
   "metadata": {},
   "outputs": [],
   "source": [
    "print(A[2,2])"
   ]
  },
  {
   "cell_type": "code",
   "execution_count": null,
   "id": "84ac4133",
   "metadata": {},
   "outputs": [],
   "source": [
    "b = np.array([[1,2,3,4,5,67,9]])"
   ]
  },
  {
   "cell_type": "code",
   "execution_count": null,
   "id": "30c47e1d",
   "metadata": {},
   "outputs": [],
   "source": [
    "print(b)"
   ]
  },
  {
   "cell_type": "code",
   "execution_count": null,
   "id": "a7caafd5",
   "metadata": {},
   "outputs": [],
   "source": [
    "import numpy as np\n",
    "\n",
    "a = np.array(42)\n",
    "b = np.array([1, 2, 3, 4, 5])\n",
    "c = np.array([[1, 2, 3], [4, 5, 6],[2,3,4]])\n",
    "d = np.array([[[1, 2, 3], [4, 5, 6]], [[1, 2, 3], [4, 5, 6]]])\n"
   ]
  },
  {
   "cell_type": "code",
   "execution_count": null,
   "id": "34318537",
   "metadata": {},
   "outputs": [],
   "source": [
    "print(a.ndim)\n",
    "print(b.ndim)\n",
    "print(c.ndim)\n",
    "print(d.ndim)"
   ]
  },
  {
   "cell_type": "code",
   "execution_count": null,
   "id": "0839ab34",
   "metadata": {},
   "outputs": [],
   "source": [
    "print(c.ndim)"
   ]
  },
  {
   "cell_type": "code",
   "execution_count": null,
   "id": "416cb4e2",
   "metadata": {},
   "outputs": [],
   "source": [
    "print(a.dtype)"
   ]
  },
  {
   "cell_type": "code",
   "execution_count": null,
   "id": "ec970200",
   "metadata": {},
   "outputs": [],
   "source": [
    "np.arange(100,200)"
   ]
  },
  {
   "cell_type": "code",
   "execution_count": null,
   "id": "168b2e2b",
   "metadata": {},
   "outputs": [],
   "source": [
    "np.arange(100,200,11)"
   ]
  },
  {
   "cell_type": "code",
   "execution_count": null,
   "id": "c1fc8a4f",
   "metadata": {},
   "outputs": [],
   "source": [
    "v = np.array([[1,2],[3,4]], dtype=np.float64)\n",
    "m = np.array([[6,7],[8,9]], dtype=np.float64)    # dtypen is optional "
   ]
  },
  {
   "cell_type": "code",
   "execution_count": null,
   "id": "19a854b9",
   "metadata": {},
   "outputs": [],
   "source": [
    "print(v)\n",
    "print(m)"
   ]
  },
  {
   "cell_type": "code",
   "execution_count": null,
   "id": "264e4c48",
   "metadata": {},
   "outputs": [],
   "source": [
    "np.add(v,m)"
   ]
  },
  {
   "cell_type": "code",
   "execution_count": null,
   "id": "53b1e21d",
   "metadata": {},
   "outputs": [],
   "source": [
    "np.subtract(v,m)"
   ]
  },
  {
   "cell_type": "code",
   "execution_count": null,
   "id": "4e885ca4",
   "metadata": {},
   "outputs": [],
   "source": [
    "np.multiply(v,m)"
   ]
  },
  {
   "cell_type": "code",
   "execution_count": null,
   "id": "b068e3a2",
   "metadata": {},
   "outputs": [],
   "source": [
    "np.divide(v,m)"
   ]
  },
  {
   "cell_type": "code",
   "execution_count": null,
   "id": "6b5f9d2e",
   "metadata": {},
   "outputs": [],
   "source": [
    "v/m"
   ]
  },
  {
   "cell_type": "code",
   "execution_count": null,
   "id": "08058815",
   "metadata": {},
   "outputs": [],
   "source": [
    "v+m"
   ]
  },
  {
   "cell_type": "code",
   "execution_count": null,
   "id": "8cf674a7",
   "metadata": {},
   "outputs": [],
   "source": [
    "v-m"
   ]
  },
  {
   "cell_type": "code",
   "execution_count": null,
   "id": "8d04af9d",
   "metadata": {},
   "outputs": [],
   "source": [
    "print(v)"
   ]
  },
  {
   "cell_type": "code",
   "execution_count": null,
   "id": "841327d2",
   "metadata": {},
   "outputs": [],
   "source": [
    "v.T"
   ]
  },
  {
   "cell_type": "code",
   "execution_count": null,
   "id": "6a755037",
   "metadata": {},
   "outputs": [],
   "source": [
    "np.exp(v)"
   ]
  },
  {
   "cell_type": "code",
   "execution_count": null,
   "id": "61569169",
   "metadata": {},
   "outputs": [],
   "source": [
    "np.cos(m)"
   ]
  },
  {
   "cell_type": "code",
   "execution_count": null,
   "id": "372904cf",
   "metadata": {},
   "outputs": [],
   "source": [
    "#EXAMPLES\n",
    "\n",
    "#Original array: \n",
    "#[ 3.1  3.5  4.5  2.9 -3.1 -3.5 -5.9]\n",
    "\n",
    "#around:    [ 3.  4.  4.  3. -3. -4. -6.]\n",
    "#floor:     [ 3.  3.  4.  2. -4. -4. -6.]\n",
    "#ceil:      [ 4.  4.  5.  3. -3. -3. -5.]\n",
    "#trunc:     [ 3.  3.  4.  2. -3. -3. -5.]\n",
    "#round:     [3.0, 4.0, 4.0, 3.0, -3.0, -4.0, -6.0]\n"
   ]
  },
  {
   "cell_type": "code",
   "execution_count": null,
   "id": "53a253ae",
   "metadata": {},
   "outputs": [],
   "source": [
    "# COPY ARRAY"
   ]
  },
  {
   "cell_type": "code",
   "execution_count": null,
   "id": "30ad9275",
   "metadata": {},
   "outputs": [],
   "source": [
    "arr=np.array([1,2,3,4,5])\n",
    "x = arr"
   ]
  },
  {
   "cell_type": "code",
   "execution_count": null,
   "id": "3d40f4f5",
   "metadata": {},
   "outputs": [],
   "source": [
    "x"
   ]
  },
  {
   "cell_type": "code",
   "execution_count": null,
   "id": "e6d48948",
   "metadata": {},
   "outputs": [],
   "source": [
    "print(x)"
   ]
  },
  {
   "cell_type": "code",
   "execution_count": null,
   "id": "55c6ad1b",
   "metadata": {},
   "outputs": [],
   "source": [
    "arr[0]"
   ]
  },
  {
   "cell_type": "code",
   "execution_count": null,
   "id": "e55a6630",
   "metadata": {},
   "outputs": [],
   "source": [
    "arr[1] = 100 #replace"
   ]
  },
  {
   "cell_type": "code",
   "execution_count": null,
   "id": "8134b285",
   "metadata": {},
   "outputs": [],
   "source": [
    "print(arr)"
   ]
  },
  {
   "cell_type": "code",
   "execution_count": null,
   "id": "d587cda1",
   "metadata": {},
   "outputs": [],
   "source": [
    "x"
   ]
  },
  {
   "cell_type": "code",
   "execution_count": null,
   "id": "8f823113",
   "metadata": {},
   "outputs": [],
   "source": [
    "x[3]=200"
   ]
  },
  {
   "cell_type": "code",
   "execution_count": null,
   "id": "215b2c10",
   "metadata": {},
   "outputs": [],
   "source": [
    "print(x)"
   ]
  },
  {
   "cell_type": "code",
   "execution_count": null,
   "id": "57572ad7",
   "metadata": {},
   "outputs": [],
   "source": [
    "# COPY::\n",
    "\n",
    "y=np.array([6,7,8,9,1])\n",
    "X=y.copy()\n"
   ]
  },
  {
   "cell_type": "code",
   "execution_count": null,
   "id": "d5e6e09f",
   "metadata": {},
   "outputs": [],
   "source": [
    "print(y)"
   ]
  },
  {
   "cell_type": "code",
   "execution_count": null,
   "id": "7793bf67",
   "metadata": {},
   "outputs": [],
   "source": [
    "y[1]=10"
   ]
  },
  {
   "cell_type": "code",
   "execution_count": null,
   "id": "7c1816fb",
   "metadata": {},
   "outputs": [],
   "source": [
    "print(y)"
   ]
  },
  {
   "cell_type": "code",
   "execution_count": null,
   "id": "4f6a0652",
   "metadata": {},
   "outputs": [],
   "source": [
    "print(X)"
   ]
  },
  {
   "cell_type": "code",
   "execution_count": null,
   "id": "496c88df",
   "metadata": {},
   "outputs": [],
   "source": [
    "#VIEW::\n",
    "\n",
    "a=np.array([1,2,3,4])\n",
    "x=a.view()\n",
    "a[0]=1888\n",
    "\n",
    "print(a)\n",
    "print(x)"
   ]
  },
  {
   "cell_type": "code",
   "execution_count": null,
   "id": "2e0930bb",
   "metadata": {},
   "outputs": [],
   "source": [
    "#RESHAPING::"
   ]
  },
  {
   "cell_type": "code",
   "execution_count": null,
   "id": "8023df38",
   "metadata": {},
   "outputs": [],
   "source": [
    "b=np.arange(1,21)\n",
    "new=b.reshape(5,4)"
   ]
  },
  {
   "cell_type": "code",
   "execution_count": null,
   "id": "ae6aa280",
   "metadata": {},
   "outputs": [],
   "source": [
    "print(new) #1d covert to 2d"
   ]
  },
  {
   "cell_type": "code",
   "execution_count": null,
   "id": "fd120f31",
   "metadata": {},
   "outputs": [],
   "source": [
    "#convert 2d TO 1d flatterring dimension"
   ]
  },
  {
   "cell_type": "code",
   "execution_count": null,
   "id": "3e36381a",
   "metadata": {},
   "outputs": [],
   "source": [
    "new.reshape(-1)"
   ]
  },
  {
   "cell_type": "code",
   "execution_count": null,
   "id": "c1a0a3f1",
   "metadata": {},
   "outputs": [],
   "source": [
    "##### Iterating Arrays\n",
    "\n",
    "#Iterating means going through elements one by one.\n",
    "\n",
    "#As we deal with multi-dimensional arrays in numpy, we can do this using basic for loop of python.\n",
    "\n",
    "#If we iterate on a 1-D array it will go through each element one by one."
   ]
  },
  {
   "cell_type": "code",
   "execution_count": null,
   "id": "9bb9b9cb",
   "metadata": {},
   "outputs": [],
   "source": [
    "#example 1 line::\n",
    "np.arange(1,7).reshape(3,2).sum(axis=0)"
   ]
  },
  {
   "cell_type": "code",
   "execution_count": null,
   "id": "8fd912db",
   "metadata": {},
   "outputs": [],
   "source": [
    "arr=np.arange(1,9).reshape(4,2)"
   ]
  },
  {
   "cell_type": "code",
   "execution_count": null,
   "id": "08a9a179",
   "metadata": {},
   "outputs": [],
   "source": [
    "arr"
   ]
  },
  {
   "cell_type": "code",
   "execution_count": null,
   "id": "aeda4a21",
   "metadata": {},
   "outputs": [],
   "source": [
    "for i in arr:\n",
    "    print(i)"
   ]
  },
  {
   "cell_type": "code",
   "execution_count": 94,
   "id": "aaf8c33e",
   "metadata": {},
   "outputs": [
    {
     "name": "stdout",
     "output_type": "stream",
     "text": [
      "[1 2 3 6 7 8]\n"
     ]
    }
   ],
   "source": [
    "#CONCATENATE ARRAY::"
   ]
  },
  {
   "cell_type": "code",
   "execution_count": 98,
   "id": "dee6faaa",
   "metadata": {},
   "outputs": [
    {
     "name": "stdout",
     "output_type": "stream",
     "text": [
      "[1 2 3 6 7 8]\n"
     ]
    }
   ],
   "source": [
    "arr1 = np.array([1,2,3])\n",
    "arr2 = np.array([6,7,8])\n",
    "\n",
    "k = np.concatenate((arr1,arr2))\n",
    "                     \n",
    "print(k)"
   ]
  },
  {
   "cell_type": "code",
   "execution_count": 102,
   "id": "1d48207e",
   "metadata": {},
   "outputs": [
    {
     "name": "stdout",
     "output_type": "stream",
     "text": [
      "[[1 2]\n",
      " [3 4]\n",
      " [5 6]\n",
      " [7 8]]\n"
     ]
    }
   ],
   "source": [
    "#Join two 2-D arrays along rows (axis=0):\n",
    "arr1=np.array([[1,2],[3,4]])\n",
    "arr2=np.array([[5,6],[7,8]])\n",
    "\n",
    "arr=np.concatenate((arr1,arr2),axis=0)\n",
    "print(arr)"
   ]
  },
  {
   "cell_type": "code",
   "execution_count": null,
   "id": "484bee36",
   "metadata": {},
   "outputs": [],
   "source": [
    "##### NumPy Splitting Array"
   ]
  },
  {
   "cell_type": "code",
   "execution_count": 105,
   "id": "69489e96",
   "metadata": {},
   "outputs": [
    {
     "name": "stdout",
     "output_type": "stream",
     "text": [
      "[array([1, 2]), array([3, 4]), array([5, 6]), array([7])]\n"
     ]
    }
   ],
   "source": [
    "#If the array has less elements than required, it will adjust from the end accordingly.\n",
    "\n",
    "arr=np.array([1,2,3,4,5,6,7])\n",
    "new=np.array_split(arr,4)\n",
    "print(new)"
   ]
  },
  {
   "cell_type": "code",
   "execution_count": 106,
   "id": "bbf3b5ad",
   "metadata": {},
   "outputs": [
    {
     "name": "stdout",
     "output_type": "stream",
     "text": [
      "[array([[ 1,  2],\n",
      "       [11, 23]]), array([[4, 5],\n",
      "       [7, 8]]), array([[ 9, 10],\n",
      "       [11, 12]])]\n"
     ]
    }
   ],
   "source": [
    "# Split the 2-D array into three 2-D arrays::\n",
    "\n",
    "arr=np.array([[1,2],[11,23],[4,5],[7, 8], [9, 10], [11, 12]])\n",
    "newarr = np.array_split(arr, 3)\n",
    "\n",
    "print(newarr)"
   ]
  },
  {
   "cell_type": "code",
   "execution_count": 107,
   "id": "e79fe1a6",
   "metadata": {},
   "outputs": [
    {
     "name": "stdout",
     "output_type": "stream",
     "text": [
      "[array([[1, 2, 3],\n",
      "       [4, 5, 6]]), array([[ 7,  8,  9],\n",
      "       [10, 11, 12]]), array([[13, 14, 15],\n",
      "       [16, 17, 18]])]\n"
     ]
    }
   ],
   "source": [
    "# Split the 2-D array into three 2-D arrays.\n",
    "arr = np.array([[1, 2, 3], [4, 5, 6], [7, 8, 9], [10, 11, 12], [13, 14, 15], [16, 17, 18]])\n",
    "\n",
    "newarr = np.array_split(arr, 3)\n",
    "\n",
    "print(newarr)"
   ]
  },
  {
   "cell_type": "code",
   "execution_count": 108,
   "id": "ef372e53",
   "metadata": {},
   "outputs": [
    {
     "name": "stdout",
     "output_type": "stream",
     "text": [
      "[array([[ 1],\n",
      "       [ 4],\n",
      "       [ 7],\n",
      "       [10],\n",
      "       [13],\n",
      "       [16]]), array([[ 2],\n",
      "       [ 5],\n",
      "       [ 8],\n",
      "       [11],\n",
      "       [14],\n",
      "       [17]]), array([[ 3],\n",
      "       [ 6],\n",
      "       [ 9],\n",
      "       [12],\n",
      "       [15],\n",
      "       [18]])]\n"
     ]
    }
   ],
   "source": [
    "#Split the 2-D array into three 2-D arrays along rows.::\n",
    "\n",
    "arr = np.array([[1, 2, 3], [4, 5, 6], [7, 8, 9], [10, 11, 12], [13, 14, 15], [16, 17, 18]])\n",
    "\n",
    "newarr = np.array_split(arr, 3, axis=1)\n",
    "\n",
    "print(newarr)"
   ]
  },
  {
   "cell_type": "code",
   "execution_count": null,
   "id": "4022713c",
   "metadata": {},
   "outputs": [],
   "source": []
  }
 ],
 "metadata": {
  "kernelspec": {
   "display_name": "Python 3 (ipykernel)",
   "language": "python",
   "name": "python3"
  },
  "language_info": {
   "codemirror_mode": {
    "name": "ipython",
    "version": 3
   },
   "file_extension": ".py",
   "mimetype": "text/x-python",
   "name": "python",
   "nbconvert_exporter": "python",
   "pygments_lexer": "ipython3",
   "version": "3.9.7"
  }
 },
 "nbformat": 4,
 "nbformat_minor": 5
}
