{
 "cells": [
  {
   "cell_type": "code",
   "execution_count": 1,
   "id": "35c0d7d0",
   "metadata": {},
   "outputs": [],
   "source": [
    "#install python package:numpy"
   ]
  },
  {
   "cell_type": "code",
   "execution_count": 2,
   "id": "184337f2",
   "metadata": {},
   "outputs": [],
   "source": [
    "#this is a cell "
   ]
  },
  {
   "cell_type": "code",
   "execution_count": 3,
   "id": "b892d5c9",
   "metadata": {},
   "outputs": [],
   "source": [
    "#pip install numpy  {one time activity}"
   ]
  },
  {
   "cell_type": "code",
   "execution_count": 4,
   "id": "a57c55e9",
   "metadata": {},
   "outputs": [],
   "source": [
    "import numpy as np"
   ]
  },
  {
   "cell_type": "code",
   "execution_count": 5,
   "id": "9a02c904",
   "metadata": {},
   "outputs": [],
   "source": [
    "myList = [9,8,7,6]\n",
    "f = [\"red\",\"yellow\"]"
   ]
  },
  {
   "cell_type": "code",
   "execution_count": 6,
   "id": "77cf8d01",
   "metadata": {},
   "outputs": [
    {
     "name": "stdout",
     "output_type": "stream",
     "text": [
      "[9, 8, 7, 6]\n",
      "['red', 'yellow']\n"
     ]
    }
   ],
   "source": [
    "print(myList)\n",
    "print(f)"
   ]
  },
  {
   "cell_type": "code",
   "execution_count": 7,
   "id": "093d30e2",
   "metadata": {},
   "outputs": [
    {
     "data": {
      "text/plain": [
       "list"
      ]
     },
     "execution_count": 7,
     "metadata": {},
     "output_type": "execute_result"
    }
   ],
   "source": [
    "type(myList) #object type"
   ]
  },
  {
   "cell_type": "code",
   "execution_count": null,
   "id": "8c672f54",
   "metadata": {},
   "outputs": [],
   "source": []
  },
  {
   "cell_type": "code",
   "execution_count": 8,
   "id": "ea1e8724",
   "metadata": {},
   "outputs": [],
   "source": [
    "# dir(np) show all the inbuilt function"
   ]
  },
  {
   "cell_type": "code",
   "execution_count": 9,
   "id": "590f7d80",
   "metadata": {},
   "outputs": [],
   "source": [
    "# help(np) "
   ]
  },
  {
   "cell_type": "code",
   "execution_count": 10,
   "id": "a4514e1c",
   "metadata": {},
   "outputs": [
    {
     "data": {
      "text/plain": [
       "array([9, 8, 7, 6])"
      ]
     },
     "execution_count": 10,
     "metadata": {},
     "output_type": "execute_result"
    }
   ],
   "source": [
    "np.array(myList)"
   ]
  },
  {
   "cell_type": "code",
   "execution_count": 11,
   "id": "a7d1a5c3",
   "metadata": {},
   "outputs": [],
   "source": [
    "arr = np.array(myList)"
   ]
  },
  {
   "cell_type": "code",
   "execution_count": 12,
   "id": "df51f580",
   "metadata": {},
   "outputs": [
    {
     "data": {
      "text/plain": [
       "(4,)"
      ]
     },
     "execution_count": 12,
     "metadata": {},
     "output_type": "execute_result"
    }
   ],
   "source": [
    "arr.size\n",
    "arr.shape"
   ]
  },
  {
   "cell_type": "code",
   "execution_count": 13,
   "id": "ea39945f",
   "metadata": {},
   "outputs": [
    {
     "name": "stdout",
     "output_type": "stream",
     "text": [
      "[9 8 7 6]\n",
      "<class 'numpy.ndarray'>\n"
     ]
    }
   ],
   "source": [
    "print(arr)\n",
    "print(type(arr))"
   ]
  },
  {
   "cell_type": "code",
   "execution_count": 14,
   "id": "0e2cf2d8",
   "metadata": {},
   "outputs": [
    {
     "data": {
      "text/plain": [
       "array([9, 8, 7, 6])"
      ]
     },
     "execution_count": 14,
     "metadata": {},
     "output_type": "execute_result"
    }
   ],
   "source": [
    "arr"
   ]
  },
  {
   "cell_type": "code",
   "execution_count": 15,
   "id": "b018632d",
   "metadata": {},
   "outputs": [],
   "source": [
    "mylist1=[1,2,3,4]\n",
    "mylist2=[5,6,7,8]\n",
    "mylist3=[9,10,11,12]"
   ]
  },
  {
   "cell_type": "code",
   "execution_count": 16,
   "id": "ea20565b",
   "metadata": {},
   "outputs": [],
   "source": [
    "ar = np.array([mylist1,mylist2,mylist3])"
   ]
  },
  {
   "cell_type": "code",
   "execution_count": 17,
   "id": "a1338641",
   "metadata": {},
   "outputs": [
    {
     "data": {
      "text/plain": [
       "array([[ 1,  2,  3,  4],\n",
       "       [ 5,  6,  7,  8],\n",
       "       [ 9, 10, 11, 12]])"
      ]
     },
     "execution_count": 17,
     "metadata": {},
     "output_type": "execute_result"
    }
   ],
   "source": [
    "ar"
   ]
  },
  {
   "cell_type": "code",
   "execution_count": 18,
   "id": "2182a135",
   "metadata": {},
   "outputs": [
    {
     "data": {
      "text/plain": [
       "numpy.ndarray"
      ]
     },
     "execution_count": 18,
     "metadata": {},
     "output_type": "execute_result"
    }
   ],
   "source": [
    "type(ar)"
   ]
  },
  {
   "cell_type": "code",
   "execution_count": 19,
   "id": "80907760",
   "metadata": {},
   "outputs": [
    {
     "data": {
      "text/plain": [
       "(3, 4)"
      ]
     },
     "execution_count": 19,
     "metadata": {},
     "output_type": "execute_result"
    }
   ],
   "source": [
    "ar.shape"
   ]
  },
  {
   "cell_type": "code",
   "execution_count": 20,
   "id": "af0a851e",
   "metadata": {},
   "outputs": [
    {
     "data": {
      "text/plain": [
       "12"
      ]
     },
     "execution_count": 20,
     "metadata": {},
     "output_type": "execute_result"
    }
   ],
   "source": [
    "ar.size\n"
   ]
  },
  {
   "cell_type": "code",
   "execution_count": 21,
   "id": "63e2599c",
   "metadata": {},
   "outputs": [],
   "source": [
    "mylist1=[1,2,3,4]"
   ]
  },
  {
   "cell_type": "code",
   "execution_count": 22,
   "id": "8507632c",
   "metadata": {},
   "outputs": [],
   "source": [
    "ar = np.array(mylist1)"
   ]
  },
  {
   "cell_type": "code",
   "execution_count": 23,
   "id": "a9b306ca",
   "metadata": {},
   "outputs": [
    {
     "name": "stdout",
     "output_type": "stream",
     "text": [
      "1\n"
     ]
    }
   ],
   "source": [
    "print(ar[0]) #index value"
   ]
  },
  {
   "cell_type": "code",
   "execution_count": 24,
   "id": "a51d0a2d",
   "metadata": {},
   "outputs": [
    {
     "name": "stdout",
     "output_type": "stream",
     "text": [
      "2\n"
     ]
    }
   ],
   "source": [
    "print(ar[1])"
   ]
  },
  {
   "cell_type": "code",
   "execution_count": 25,
   "id": "fd322185",
   "metadata": {},
   "outputs": [
    {
     "name": "stdout",
     "output_type": "stream",
     "text": [
      "3rd elements is:: 4th element is:: 4\n"
     ]
    }
   ],
   "source": [
    "print(\"3rd elements is::\",ar[2] and \"4th element is::\",ar[3])"
   ]
  },
  {
   "cell_type": "code",
   "execution_count": 26,
   "id": "c8015348",
   "metadata": {},
   "outputs": [],
   "source": [
    "mylist1=[1,2,3,4]\n",
    "mylist2=[5,6,7,8]\n",
    "mylist3=[9,10,11,12]\n",
    "ar = np.array([mylist1,mylist2,mylist3])"
   ]
  },
  {
   "cell_type": "code",
   "execution_count": 27,
   "id": "5ef046a1",
   "metadata": {},
   "outputs": [
    {
     "data": {
      "text/plain": [
       "array([[ 1,  2,  3,  4],\n",
       "       [ 5,  6,  7,  8],\n",
       "       [ 9, 10, 11, 12]])"
      ]
     },
     "execution_count": 27,
     "metadata": {},
     "output_type": "execute_result"
    }
   ],
   "source": [
    "ar"
   ]
  },
  {
   "cell_type": "code",
   "execution_count": 28,
   "id": "ccb6d35d",
   "metadata": {},
   "outputs": [
    {
     "data": {
      "text/plain": [
       "7"
      ]
     },
     "execution_count": 28,
     "metadata": {},
     "output_type": "execute_result"
    }
   ],
   "source": [
    "ar[1,2]"
   ]
  },
  {
   "cell_type": "code",
   "execution_count": 29,
   "id": "2da26317",
   "metadata": {},
   "outputs": [],
   "source": [
    "mylist1=[1,2,3,4,15]\n",
    "mylist2=[5,6,7,8,16]\n",
    "mylist3=[9,10,11,12,17]\n",
    "ar = np.array([mylist1,mylist2,mylist3])"
   ]
  },
  {
   "cell_type": "code",
   "execution_count": 30,
   "id": "7f4035af",
   "metadata": {},
   "outputs": [
    {
     "data": {
      "text/plain": [
       "array([[ 1,  2,  3,  4, 15],\n",
       "       [ 5,  6,  7,  8, 16],\n",
       "       [ 9, 10, 11, 12, 17]])"
      ]
     },
     "execution_count": 30,
     "metadata": {},
     "output_type": "execute_result"
    }
   ],
   "source": [
    "ar"
   ]
  },
  {
   "cell_type": "code",
   "execution_count": 31,
   "id": "6881316f",
   "metadata": {},
   "outputs": [
    {
     "data": {
      "text/plain": [
       "8"
      ]
     },
     "execution_count": 31,
     "metadata": {},
     "output_type": "execute_result"
    }
   ],
   "source": [
    "ar[1,3]\n"
   ]
  },
  {
   "cell_type": "code",
   "execution_count": 32,
   "id": "9413104e",
   "metadata": {},
   "outputs": [
    {
     "data": {
      "text/plain": [
       "16"
      ]
     },
     "execution_count": 32,
     "metadata": {},
     "output_type": "execute_result"
    }
   ],
   "source": [
    "ar[1,4]"
   ]
  },
  {
   "cell_type": "code",
   "execution_count": 33,
   "id": "a26d3064",
   "metadata": {},
   "outputs": [
    {
     "data": {
      "text/plain": [
       "1"
      ]
     },
     "execution_count": 33,
     "metadata": {},
     "output_type": "execute_result"
    }
   ],
   "source": [
    "ar[0,0]"
   ]
  },
  {
   "cell_type": "code",
   "execution_count": 34,
   "id": "4d59b553",
   "metadata": {},
   "outputs": [
    {
     "data": {
      "text/plain": [
       "7"
      ]
     },
     "execution_count": 34,
     "metadata": {},
     "output_type": "execute_result"
    }
   ],
   "source": [
    "ar[1,2]"
   ]
  },
  {
   "cell_type": "code",
   "execution_count": 35,
   "id": "411f334b",
   "metadata": {},
   "outputs": [
    {
     "data": {
      "text/plain": [
       "(3, 5)"
      ]
     },
     "execution_count": 35,
     "metadata": {},
     "output_type": "execute_result"
    }
   ],
   "source": [
    "ar.shape"
   ]
  },
  {
   "cell_type": "code",
   "execution_count": 36,
   "id": "c7742e76",
   "metadata": {},
   "outputs": [
    {
     "name": "stdout",
     "output_type": "stream",
     "text": [
      "[b'1' b'2' b'3' b'4' b'5']\n",
      "|S1\n"
     ]
    }
   ],
   "source": [
    "import numpy as np\n",
    "arr=np.array([1,2,3,4,5],dtype=\"S\") #forcing the \n",
    "print(arr)\n",
    "print(arr.dtype)"
   ]
  },
  {
   "cell_type": "code",
   "execution_count": 37,
   "id": "86d37e88",
   "metadata": {},
   "outputs": [
    {
     "name": "stdout",
     "output_type": "stream",
     "text": [
      "int64\n"
     ]
    }
   ],
   "source": [
    "arr=np.array([1,2,3,4,5],dtype=np.int64)\n",
    "print(arr.dtype)"
   ]
  },
  {
   "cell_type": "code",
   "execution_count": 38,
   "id": "c20f4de0",
   "metadata": {},
   "outputs": [
    {
     "data": {
      "text/plain": [
       "array([1, 2, 3, 4, 5])"
      ]
     },
     "execution_count": 38,
     "metadata": {},
     "output_type": "execute_result"
    }
   ],
   "source": [
    "arr"
   ]
  },
  {
   "cell_type": "code",
   "execution_count": 39,
   "id": "1e3edc52",
   "metadata": {},
   "outputs": [
    {
     "name": "stdout",
     "output_type": "stream",
     "text": [
      "float64\n"
     ]
    }
   ],
   "source": [
    "arr=np.array([1,2,3,4,5],dtype=np.float64)\n",
    "print(arr.dtype)"
   ]
  },
  {
   "cell_type": "code",
   "execution_count": 40,
   "id": "2f6df2a0",
   "metadata": {},
   "outputs": [
    {
     "data": {
      "text/plain": [
       "array([1., 2., 3., 4., 5.])"
      ]
     },
     "execution_count": 40,
     "metadata": {},
     "output_type": "execute_result"
    }
   ],
   "source": [
    "arr"
   ]
  },
  {
   "cell_type": "code",
   "execution_count": 41,
   "id": "6c1ada3c",
   "metadata": {},
   "outputs": [],
   "source": [
    "#Array Math\n",
    "x = np.array([[1,2],[3,4]])\n",
    "y = np.array([[5,6],[7,8]])"
   ]
  },
  {
   "cell_type": "code",
   "execution_count": 42,
   "id": "c1137e9e",
   "metadata": {},
   "outputs": [
    {
     "name": "stdout",
     "output_type": "stream",
     "text": [
      "[[1 2]\n",
      " [3 4]]\n",
      "[[5 6]\n",
      " [7 8]]\n"
     ]
    }
   ],
   "source": [
    "print(x)\n",
    "print(y)"
   ]
  },
  {
   "cell_type": "code",
   "execution_count": 43,
   "id": "4cf9965e",
   "metadata": {},
   "outputs": [
    {
     "data": {
      "text/plain": [
       "array([[ 6,  8],\n",
       "       [10, 12]])"
      ]
     },
     "execution_count": 43,
     "metadata": {},
     "output_type": "execute_result"
    }
   ],
   "source": [
    "x+y"
   ]
  },
  {
   "cell_type": "code",
   "execution_count": 44,
   "id": "2ca8773a",
   "metadata": {},
   "outputs": [
    {
     "data": {
      "text/plain": [
       "array([[-4, -4],\n",
       "       [-4, -4]])"
      ]
     },
     "execution_count": 44,
     "metadata": {},
     "output_type": "execute_result"
    }
   ],
   "source": [
    "np.subtract(x,y)"
   ]
  },
  {
   "cell_type": "code",
   "execution_count": 45,
   "id": "12e5582a",
   "metadata": {},
   "outputs": [
    {
     "data": {
      "text/plain": [
       "array([[0.2       , 0.33333333],\n",
       "       [0.42857143, 0.5       ]])"
      ]
     },
     "execution_count": 45,
     "metadata": {},
     "output_type": "execute_result"
    }
   ],
   "source": [
    "np.divide(x,y)"
   ]
  },
  {
   "cell_type": "code",
   "execution_count": 46,
   "id": "bde230c5",
   "metadata": {},
   "outputs": [
    {
     "data": {
      "text/plain": [
       "array([[ 5, 12],\n",
       "       [21, 32]])"
      ]
     },
     "execution_count": 46,
     "metadata": {},
     "output_type": "execute_result"
    }
   ],
   "source": [
    "np.multiply(x,y)"
   ]
  },
  {
   "cell_type": "code",
   "execution_count": 47,
   "id": "0ab87692",
   "metadata": {},
   "outputs": [
    {
     "data": {
      "text/plain": [
       "array([[ 6,  8],\n",
       "       [10, 12]])"
      ]
     },
     "execution_count": 47,
     "metadata": {},
     "output_type": "execute_result"
    }
   ],
   "source": [
    "np.add(x,y)"
   ]
  },
  {
   "cell_type": "code",
   "execution_count": 48,
   "id": "dff64349",
   "metadata": {},
   "outputs": [
    {
     "data": {
      "text/plain": [
       "array([[1.        , 1.41421356],\n",
       "       [1.73205081, 2.        ]])"
      ]
     },
     "execution_count": 48,
     "metadata": {},
     "output_type": "execute_result"
    }
   ],
   "source": [
    "np.sqrt(x)"
   ]
  },
  {
   "cell_type": "code",
   "execution_count": 49,
   "id": "4c1b5416",
   "metadata": {},
   "outputs": [
    {
     "data": {
      "text/plain": [
       "(2, 2)"
      ]
     },
     "execution_count": 49,
     "metadata": {},
     "output_type": "execute_result"
    }
   ],
   "source": [
    "x.shape"
   ]
  },
  {
   "cell_type": "code",
   "execution_count": 50,
   "id": "53d1c164",
   "metadata": {},
   "outputs": [
    {
     "data": {
      "text/plain": [
       "(2, 2)"
      ]
     },
     "execution_count": 50,
     "metadata": {},
     "output_type": "execute_result"
    }
   ],
   "source": [
    "y.shape"
   ]
  },
  {
   "cell_type": "code",
   "execution_count": 51,
   "id": "abe8e67d",
   "metadata": {},
   "outputs": [
    {
     "data": {
      "text/plain": [
       "array([[ 6,  8],\n",
       "       [10, 12]])"
      ]
     },
     "execution_count": 51,
     "metadata": {},
     "output_type": "execute_result"
    }
   ],
   "source": [
    "x+y\n"
   ]
  },
  {
   "cell_type": "code",
   "execution_count": 52,
   "id": "c6ae9d10",
   "metadata": {},
   "outputs": [],
   "source": [
    "x = np.array([[1,2],[3,4]])\n",
    "y = np.array([[5,6],[7,8],[1,4]])"
   ]
  },
  {
   "cell_type": "code",
   "execution_count": 53,
   "id": "675f0b4d",
   "metadata": {},
   "outputs": [
    {
     "ename": "ValueError",
     "evalue": "operands could not be broadcast together with shapes (2,2) (3,2) ",
     "output_type": "error",
     "traceback": [
      "\u001b[0;31m---------------------------------------------------------------------------\u001b[0m",
      "\u001b[0;31mValueError\u001b[0m                                Traceback (most recent call last)",
      "\u001b[0;32m/var/folders/x9/53_ys47x1pn2rbqnxc60stsm0000gn/T/ipykernel_97807/3708876685.py\u001b[0m in \u001b[0;36m<module>\u001b[0;34m\u001b[0m\n\u001b[0;32m----> 1\u001b[0;31m \u001b[0mnp\u001b[0m\u001b[0;34m.\u001b[0m\u001b[0madd\u001b[0m\u001b[0;34m(\u001b[0m\u001b[0mx\u001b[0m\u001b[0;34m,\u001b[0m\u001b[0my\u001b[0m\u001b[0;34m)\u001b[0m \u001b[0;31m# rows and clounm is not equal\u001b[0m\u001b[0;34m\u001b[0m\u001b[0;34m\u001b[0m\u001b[0m\n\u001b[0m",
      "\u001b[0;31mValueError\u001b[0m: operands could not be broadcast together with shapes (2,2) (3,2) "
     ]
    }
   ],
   "source": [
    "np.add(x,y) # rows and clounm is not equal"
   ]
  },
  {
   "cell_type": "code",
   "execution_count": null,
   "id": "b23c7fd1",
   "metadata": {},
   "outputs": [],
   "source": [
    "x.shape\n",
    "y.shape"
   ]
  },
  {
   "cell_type": "code",
   "execution_count": null,
   "id": "94763cb9",
   "metadata": {},
   "outputs": [],
   "source": [
    "np.exp(x)  #exponent"
   ]
  },
  {
   "cell_type": "code",
   "execution_count": null,
   "id": "516b0019",
   "metadata": {},
   "outputs": [],
   "source": [
    "np.log(y) #logaritham"
   ]
  },
  {
   "cell_type": "code",
   "execution_count": null,
   "id": "342399d5",
   "metadata": {},
   "outputs": [],
   "source": [
    "np.cos(x) #cos"
   ]
  },
  {
   "cell_type": "code",
   "execution_count": null,
   "id": "6aed15e6",
   "metadata": {},
   "outputs": [],
   "source": [
    "np.tan(x) #tan"
   ]
  },
  {
   "cell_type": "code",
   "execution_count": null,
   "id": "5394a2d9",
   "metadata": {},
   "outputs": [],
   "source": [
    "#floor ,ceil,round\n",
    "x=np.array([[1.5,2.5],[3.9,4.9]],dtype=np.float64)"
   ]
  },
  {
   "cell_type": "code",
   "execution_count": null,
   "id": "92c0d31f",
   "metadata": {},
   "outputs": [],
   "source": [
    "print(x)"
   ]
  },
  {
   "cell_type": "code",
   "execution_count": null,
   "id": "52d89019",
   "metadata": {},
   "outputs": [],
   "source": [
    "np.floor(x)"
   ]
  },
  {
   "cell_type": "code",
   "execution_count": null,
   "id": "a3a42b91",
   "metadata": {},
   "outputs": [],
   "source": [
    "np.ceil(x)"
   ]
  },
  {
   "cell_type": "code",
   "execution_count": null,
   "id": "6feb011a",
   "metadata": {},
   "outputs": [],
   "source": [
    "np.round(x)"
   ]
  },
  {
   "cell_type": "code",
   "execution_count": null,
   "id": "afee2996",
   "metadata": {},
   "outputs": [],
   "source": [
    "x = np.array([[1,2],[3,4]])\n",
    "y = np.array([[5,6],[7,8]])\n",
    "z = np.array([[9,2],[3,7]])"
   ]
  },
  {
   "cell_type": "code",
   "execution_count": null,
   "id": "f44eb5b7",
   "metadata": {},
   "outputs": [],
   "source": [
    "np.dot(x,y)"
   ]
  },
  {
   "cell_type": "code",
   "execution_count": null,
   "id": "e78b26c6",
   "metadata": {},
   "outputs": [],
   "source": [
    "x*y*z"
   ]
  },
  {
   "cell_type": "code",
   "execution_count": null,
   "id": "bd7b09c0",
   "metadata": {},
   "outputs": [],
   "source": [
    "total = np.multiply(x,y) #it will multiply only x and y ,only 1st and 2nd parameters are considered in numpy so "
   ]
  },
  {
   "cell_type": "code",
   "execution_count": null,
   "id": "5050a207",
   "metadata": {},
   "outputs": [],
   "source": [
    "total"
   ]
  },
  {
   "cell_type": "code",
   "execution_count": null,
   "id": "4d5cac07",
   "metadata": {},
   "outputs": [],
   "source": [
    "total * z"
   ]
  },
  {
   "cell_type": "code",
   "execution_count": null,
   "id": "70db8573",
   "metadata": {},
   "outputs": [],
   "source": [
    "import numpy as np\n",
    "a = np.array([1,2])\n",
    "b = np.array([1,3])\n"
   ]
  },
  {
   "cell_type": "code",
   "execution_count": null,
   "id": "a5fc9c6c",
   "metadata": {},
   "outputs": [],
   "source": [
    "a.dot(b) #confusion"
   ]
  },
  {
   "cell_type": "code",
   "execution_count": null,
   "id": "4bb7971f",
   "metadata": {},
   "outputs": [],
   "source": [
    "#row wise sum 1=row , 0=column"
   ]
  },
  {
   "cell_type": "code",
   "execution_count": null,
   "id": "382a1c01",
   "metadata": {},
   "outputs": [],
   "source": []
  },
  {
   "cell_type": "code",
   "execution_count": 54,
   "id": "66f7ef26",
   "metadata": {},
   "outputs": [],
   "source": [
    "xi=np.array([[1,2,3],[5,6,7],[8,9,1]])"
   ]
  },
  {
   "cell_type": "code",
   "execution_count": 56,
   "id": "26018863",
   "metadata": {},
   "outputs": [
    {
     "data": {
      "text/plain": [
       "array([[1, 2, 3],\n",
       "       [5, 6, 7],\n",
       "       [8, 9, 1]])"
      ]
     },
     "execution_count": 56,
     "metadata": {},
     "output_type": "execute_result"
    }
   ],
   "source": [
    "xi"
   ]
  },
  {
   "cell_type": "code",
   "execution_count": 55,
   "id": "09a91456",
   "metadata": {},
   "outputs": [
    {
     "data": {
      "text/plain": [
       "42"
      ]
     },
     "execution_count": 55,
     "metadata": {},
     "output_type": "execute_result"
    }
   ],
   "source": [
    "np.sum(xi)"
   ]
  },
  {
   "cell_type": "code",
   "execution_count": 57,
   "id": "cff64a44",
   "metadata": {},
   "outputs": [
    {
     "data": {
      "text/plain": [
       "array([[1, 2, 3],\n",
       "       [5, 6, 7],\n",
       "       [8, 9, 1]])"
      ]
     },
     "execution_count": 57,
     "metadata": {},
     "output_type": "execute_result"
    }
   ],
   "source": [
    "xi"
   ]
  },
  {
   "cell_type": "code",
   "execution_count": 60,
   "id": "70cf9088",
   "metadata": {},
   "outputs": [
    {
     "data": {
      "text/plain": [
       "array([14, 17, 11])"
      ]
     },
     "execution_count": 60,
     "metadata": {},
     "output_type": "execute_result"
    }
   ],
   "source": [
    "np.sum(xi,axis=0)"
   ]
  },
  {
   "cell_type": "code",
   "execution_count": 59,
   "id": "43b7cea5",
   "metadata": {},
   "outputs": [
    {
     "data": {
      "text/plain": [
       "array([[1, 5, 8],\n",
       "       [2, 6, 9],\n",
       "       [3, 7, 1]])"
      ]
     },
     "execution_count": 59,
     "metadata": {},
     "output_type": "execute_result"
    }
   ],
   "source": [
    "xi.T #transpose"
   ]
  },
  {
   "cell_type": "code",
   "execution_count": 61,
   "id": "ba21cb49",
   "metadata": {},
   "outputs": [
    {
     "data": {
      "text/plain": [
       "array([[1, 2, 3],\n",
       "       [5, 6, 7],\n",
       "       [8, 9, 1]])"
      ]
     },
     "execution_count": 61,
     "metadata": {},
     "output_type": "execute_result"
    }
   ],
   "source": [
    "xi.T.T"
   ]
  },
  {
   "cell_type": "code",
   "execution_count": 62,
   "id": "0e6062b1",
   "metadata": {},
   "outputs": [
    {
     "name": "stdout",
     "output_type": "stream",
     "text": [
      "[1888    2    3    4]\n",
      "[1888    2    3    4]\n"
     ]
    }
   ],
   "source": [
    "#VIEW::\n",
    "\n",
    "a=np.array([1,2,3,4])\n",
    "x=a.view()\n",
    "a[0]=1888\n",
    "\n",
    "print(a)\n",
    "print(x)"
   ]
  },
  {
   "cell_type": "code",
   "execution_count": null,
   "id": "6f14c9ab",
   "metadata": {},
   "outputs": [],
   "source": []
  }
 ],
 "metadata": {
  "kernelspec": {
   "display_name": "Python 3 (ipykernel)",
   "language": "python",
   "name": "python3"
  },
  "language_info": {
   "codemirror_mode": {
    "name": "ipython",
    "version": 3
   },
   "file_extension": ".py",
   "mimetype": "text/x-python",
   "name": "python",
   "nbconvert_exporter": "python",
   "pygments_lexer": "ipython3",
   "version": "3.9.7"
  }
 },
 "nbformat": 4,
 "nbformat_minor": 5
}
